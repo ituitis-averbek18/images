{
 "cells": [
  {
   "cell_type": "markdown",
   "metadata": {},
   "source": [
    "# Koşullu Durumlar"
   ]
  },
  {
   "cell_type": "markdown",
   "metadata": {},
   "source": [
    "Koşul ifadeleri, programlamada en çok başvurulan ifadelerden biridir. Koşul ifadelerinin programın içerisindeki fonksiyonu programın takip edeceği yola karar vermek olarak özetlenebilir. "
   ]
  },
  {
   "cell_type": "markdown",
   "metadata": {},
   "source": [
    "Bazı durumlarda programın içerisinde iki veya daha fazla değişkenin veya durumun karşılaştırılması gerekebilir. Örneğin email hesabımıza giriş yaparken e-postamızı ve şifremizi gireriz. Şifre girişi yapıldıktan sonra girilen şifre sistemde kayıtlı olan şifreyle karşılaştırılır ve iki şifrenin eşleşmesi durumunda e-posta hesabına erişim sağlanır fakat şifrelerin eşleşmediği durumda hata mesajıyla karşılaşırız. Kendisine verilen ifadelerin doğruluğunu kontrol edip gerçek hayattan örnek vermek gerekirse program içerisinde yol ayrımı yaratan programlama yapılarına __koşullu durumlar__ denir."
   ]
  },
  {
   "cell_type": "markdown",
   "metadata": {},
   "source": [
    "Python dilinde ise koşullu durum yapısını kurmak için __if-else-elif__ anahtar kelimeleri kullanılır."
   ]
  },
  {
   "cell_type": "markdown",
   "metadata": {},
   "source": [
    "Bu ifadeleri görmeden önce karşılaştırma operatörlerini aşağıdaki tablo üzerinde inceleyelim: "
   ]
  },
  {
   "cell_type": "markdown",
   "metadata": {},
   "source": [
    "![title](https://raw.githubusercontent.com/ituitis-averbek18/images/master/week2_table1.png)"
   ]
  },
  {
   "cell_type": "markdown",
   "metadata": {},
   "source": [
    "# if Bloğu"
   ]
  },
  {
   "cell_type": "code",
   "execution_count": 9,
   "metadata": {},
   "outputs": [
    {
     "name": "stdout",
     "output_type": "stream",
     "text": [
      "Bir sayı giriniz: 15\n"
     ]
    }
   ],
   "source": [
    "n = int(input(\"Bir sayı giriniz: \"))\n",
    "\n",
    "if n < 10:                                #Eğer sayı 10'dan küçükse,\n",
    "    print(\"n 10'dan küçüktür.\")           #Ekrana \"n 10'dan küçüktür\" bastır"
   ]
  },
  {
   "cell_type": "markdown",
   "metadata": {},
   "source": [
    "![title](https://raw.githubusercontent.com/ituitis-averbek18/images/master/flow1_1.png)\n",
    "<strong><center>if kullanım algoritması</center></strong>"
   ]
  },
  {
   "cell_type": "markdown",
   "metadata": {},
   "source": [
    "Yukarıdaki şemada da görüldüğü üzere if'in şartı olarak yazılan \"n<10\" ifadesinin sağlanması durumunda __if__ bloğunun içindeki kod satırı çalıştırılır. Söz konusu koşulun sağlanmadığı durumda ise program __if__ bloğunu görmezden gelir."
   ]
  },
  {
   "cell_type": "markdown",
   "metadata": {},
   "source": [
    "###  Örn:"
   ]
  },
  {
   "cell_type": "code",
   "execution_count": 10,
   "metadata": {},
   "outputs": [
    {
     "name": "stdout",
     "output_type": "stream",
     "text": [
      "Yaşınızı giriniz: 20\n"
     ]
    }
   ],
   "source": [
    "yaş = int(input(\"Yaşınızı giriniz: \")) # Kullanıcı burada yaşını girer.\n",
    "\n",
    "if yaş < 18:                                           # Program yaşın 18 den küçük olup olmadığını kontrol eder.\n",
    "    print(\"Yaşınız 18'den küçük. Ehliyet alamazsınız\") # yaş 18'den küçükse bu çıktıyı verir."
   ]
  },
  {
   "cell_type": "markdown",
   "metadata": {},
   "source": [
    "Yukarıdaki örneğe baktığımızda __if__ ifadesinin koşulunun yaş değişkenin 18'den küçük olması olduğunu görüyoruz. Yaş değişkeninin değerinin 18'den küçük olması durumunda program ekrana \"Yaşınız 18'den küçük. Ehliyet alamazsınız\" çıktısını verir. Fakat 18 veya 18'den büyük bir input girildiği takdirde hiçbir işlem gerçekleşmez."
   ]
  },
  {
   "cell_type": "markdown",
   "metadata": {},
   "source": [
    "İkinci bir __if__ bloğu yazarak bu durumda da bir işlem gerçekleşmesi sağlanabilir:"
   ]
  },
  {
   "cell_type": "code",
   "execution_count": 20,
   "metadata": {},
   "outputs": [
    {
     "name": "stdout",
     "output_type": "stream",
     "text": [
      "Yaşınızı giriniz: 22\n",
      "Yaşınız uygun. Ehliyet alabilirsiniz.\n"
     ]
    }
   ],
   "source": [
    "yaş = int(input(\"Yaşınızı giriniz: \")) # Kullanıcı burada yaşını girer.\n",
    "\n",
    "if yaş < 18: # Program yaşın 18 den küçük olup olmadığını kontrol eder.\n",
    "    print(\"Yaşınız 18'den küçük. Ehliyet alamazsınız\") # yaş 18'den küçükse bu çıktıyı verir.\n",
    "\n",
    "if yaş >= 18:\n",
    "    print(\"Yaşınız uygun. Ehliyet alabilirsiniz.\")"
   ]
  },
  {
   "cell_type": "markdown",
   "metadata": {},
   "source": [
    "Fakat burda iki if bloğunun içindeki şart da doğru olsaydı ikisinin içindeki işlemler de gerçekleştirilirdi.\n",
    "Örneğin:"
   ]
  },
  {
   "cell_type": "code",
   "execution_count": 15,
   "metadata": {},
   "outputs": [
    {
     "name": "stdout",
     "output_type": "stream",
     "text": [
      "n 10'dan küçüktür\n",
      "n 15'ten küçüktür\n"
     ]
    }
   ],
   "source": [
    "n = 5\n",
    "\n",
    "if n < 10:\n",
    "    print(\"n 10'dan küçüktür\")\n",
    "\n",
    "if n < 15:\n",
    "    print(\"n 15'ten küçüktür\")"
   ]
  },
  {
   "cell_type": "markdown",
   "metadata": {},
   "source": [
    "# else Bloğu"
   ]
  },
  {
   "cell_type": "code",
   "execution_count": 12,
   "metadata": {},
   "outputs": [
    {
     "name": "stdout",
     "output_type": "stream",
     "text": [
      "Bir sayı giriniz: 56\n",
      "n 10'dan küçük değildir\n"
     ]
    }
   ],
   "source": [
    "n = int(input(\"Bir sayı giriniz: \"))\n",
    "\n",
    "if n < 10:\n",
    "    print(\"n 10'dan küçüktür\")\n",
    "else:\n",
    "    print(\"n 10'dan küçük değildir\")"
   ]
  },
  {
   "cell_type": "markdown",
   "metadata": {},
   "source": [
    "![title](https://raw.githubusercontent.com/ituitis-averbek18/images/master/flow2_1.png)\n",
    "<strong><center>else kullanım algoritması</center></strong>"
   ]
  },
  {
   "cell_type": "markdown",
   "metadata": {},
   "source": [
    "Yukarıdaki şemada da görüldüğü üzere şartın sağlanması durumunda __if__ bloğunun içinde bulunan __print(\"n 10'dan küçüktür\")__ satırı çalıştırılır. Eğer şart sağlanmıyorsa __else__ bloğunun içindeki __print(\"n 10'dan küçük değildir\")__ satırı çalıştırılır."
   ]
  },
  {
   "cell_type": "markdown",
   "metadata": {},
   "source": [
    "Örneğin bir parola kontrol aşamasını aşağıdaki kod üzerinde inceleyelim:"
   ]
  },
  {
   "cell_type": "code",
   "execution_count": 18,
   "metadata": {},
   "outputs": [
    {
     "name": "stdout",
     "output_type": "stream",
     "text": [
      "Parolanızı giriniz: 123456\n",
      "Parola doğru. Giriş gerçekleştiriliyor...\n"
     ]
    }
   ],
   "source": [
    "parola = \"123456\" # Örnek bir parola değişkeni atandı.\n",
    " \n",
    "girdi = input(\"Parolanızı giriniz: \") # Kullanıcıdan parolayı girmesi istendi.\n",
    "\n",
    "if girdi == parola: # Parolanın doğruluğu kontrol ediliyor\n",
    "    print(\"Parola doğru. Giriş gerçekleştiriliyor...\") # Parola doğruysa bu çıktı ekrana yazdırılır.\n",
    "else:\n",
    "    print(\"Parola yanlış\") # Parola doğru değilse bu çıktı ekrana yazdırılır."
   ]
  },
  {
   "cell_type": "markdown",
   "metadata": {},
   "source": [
    "Yukarıda da görüldüğü üzere **else** ifadesinin yanına herhangi bir şart ifadesi yazılmaz. "
   ]
  },
  {
   "cell_type": "markdown",
   "metadata": {},
   "source": [
    "__*Soru: else bloğunun içine yeni bir if bloğu yazılabilir mi?*__"
   ]
  },
  {
   "cell_type": "markdown",
   "metadata": {},
   "source": [
    "# elif Bloğu"
   ]
  },
  {
   "cell_type": "code",
   "execution_count": 16,
   "metadata": {},
   "outputs": [
    {
     "name": "stdout",
     "output_type": "stream",
     "text": [
      "Bir sayı giriniz: 12\n",
      "n 10 ile 15 arasındadır\n"
     ]
    }
   ],
   "source": [
    "n = int(input(\"Bir sayı giriniz: \"))\n",
    "\n",
    "if n < 10:\n",
    "    print(\"n 10'dan küçüktür.\")\n",
    "elif n < 15:\n",
    "    print(\"n 10 ile 15 arasındadır\")"
   ]
  },
  {
   "cell_type": "markdown",
   "metadata": {},
   "source": [
    "![title](https://raw.githubusercontent.com/ituitis-averbek18/images/master/flow3_1.png)\n",
    "<strong><center>elif kullanım algoritması</center></strong>"
   ]
  },
  {
   "cell_type": "markdown",
   "metadata": {},
   "source": [
    "Elif bloğu aşağıda olduğu gibi de yazılabilir: "
   ]
  },
  {
   "cell_type": "code",
   "execution_count": 21,
   "metadata": {},
   "outputs": [
    {
     "name": "stdout",
     "output_type": "stream",
     "text": [
      "n 10'dur\n"
     ]
    }
   ],
   "source": [
    "n = 10\n",
    "\n",
    "if n < 5:\n",
    "    print(\"n 5'ten küçüktür\")\n",
    "else:\n",
    "    if n == 10:\n",
    "        print(\"n 10'dur\")"
   ]
  },
  {
   "cell_type": "markdown",
   "metadata": {},
   "source": [
    "Fakat bu yaklaşımda sadece bir elif bloğu bu şekilde yazılabilir çünkü bir __if__ bloğuna yalnızca bir __else__ bloğu tekabül edebilir. Python programlama dilinde bu karışıklığı önleme amacıyla **elif** anahtar kelimesi kullanılmaktadır:"
   ]
  },
  {
   "cell_type": "code",
   "execution_count": 22,
   "metadata": {},
   "outputs": [
    {
     "name": "stdout",
     "output_type": "stream",
     "text": [
      "n 10'dur\n"
     ]
    }
   ],
   "source": [
    "n = 10\n",
    "\n",
    "if n < 5:\n",
    "    print(\"n 5'ten küçüktür\")\n",
    "elif n == 10:\n",
    "        print(\"n 10'dur\")"
   ]
  },
  {
   "cell_type": "markdown",
   "metadata": {},
   "source": [
    "__elif__ ifadesi birden fazla olabilir:"
   ]
  },
  {
   "cell_type": "code",
   "execution_count": 20,
   "metadata": {},
   "outputs": [
    {
     "name": "stdout",
     "output_type": "stream",
     "text": [
      "n 5'ten küçüktür\n"
     ]
    }
   ],
   "source": [
    "n = 1\n",
    "\n",
    "if n < 5:\n",
    "    print(\"n 5'ten küçüktür\")\n",
    "elif n < 10:\n",
    "    print(\"n 5 ile 10 arasındadır\")\n",
    "elif n < 15:\n",
    "    print(\"n 10 ile 15 arasındadır\")\n",
    "elif n < 20:\n",
    "    print(\"n 15 ile 20 arasındadır\")\n",
    "elif n < 25:\n",
    "    print(\"n 20 ile 25 arasındadır\")\n",
    "elif n < 30:\n",
    "    print(\"n 25 ile 30 arasındadır\")"
   ]
  },
  {
   "cell_type": "markdown",
   "metadata": {},
   "source": [
    "Birden fazla koşulun sağlandığı bir durumu inceleyecek olursak:"
   ]
  },
  {
   "cell_type": "code",
   "execution_count": 25,
   "metadata": {},
   "outputs": [],
   "source": [
    "n = 5\n",
    "\n",
    "if n > 5:\n",
    "    print(\"n 5'ten büyüktür\")\n",
    "elif n > 10:\n",
    "    print(\"n 10'dan büyüktür\")\n",
    "elif n > 15:\n",
    "    print(\"n 15'ten büyüktür\")"
   ]
  },
  {
   "cell_type": "markdown",
   "metadata": {},
   "source": [
    "__Bunun nedeni programın, şartın sağlandığı yerdeki bloğun içine girip diğer şartları kontrol etmemesidir.__"
   ]
  },
  {
   "cell_type": "markdown",
   "metadata": {},
   "source": [
    "__if-elif-else__ bloklarının hepsi birbiriyle ilişkili şekilde de kullanabilir:"
   ]
  },
  {
   "cell_type": "code",
   "execution_count": 29,
   "metadata": {
    "scrolled": true
   },
   "outputs": [
    {
     "name": "stdout",
     "output_type": "stream",
     "text": [
      "n 5'ten küçüktür.\n"
     ]
    }
   ],
   "source": [
    "n = 3\n",
    "\n",
    "if n < 5:\n",
    "    print(\"n 5'ten küçüktür.\")\n",
    "elif n < 10:\n",
    "    print(\"n 5 ile 10  arasındadır\")\n",
    "elif n < 15:\n",
    "    print(\"n 10 ile 15 arasındadır\")\n",
    "else:\n",
    "    print(\"n 15'den küçük değildir\")"
   ]
  },
  {
   "cell_type": "markdown",
   "metadata": {},
   "source": [
    "#  Boolean Değerler ve İfadeler"
   ]
  },
  {
   "cell_type": "markdown",
   "metadata": {},
   "source": [
    "Python'da doğru ve yanlış değerleri saklamak için kullanılan veri tipine bool adı verilmektedir. Boole cebiri tüm modern bilgisayar aritmetiğinin temelidir.\n",
    "\n",
    "Sadece iki boolean değer vardır: True(doğru) ve False(yanlış). Python case sensitive (büyük-küçük harfe duyarlı) bir dil olduğundan büyük harfle başlamaları önemlidir. true ve false boolean değerler değildir."
   ]
  },
  {
   "cell_type": "code",
   "execution_count": 3,
   "metadata": {},
   "outputs": [
    {
     "name": "stdout",
     "output_type": "stream",
     "text": [
      "<class 'bool'>\n"
     ]
    }
   ],
   "source": [
    "print(type(True))"
   ]
  },
  {
   "cell_type": "code",
   "execution_count": 6,
   "metadata": {},
   "outputs": [
    {
     "ename": "NameError",
     "evalue": "name 'true' is not defined",
     "output_type": "error",
     "traceback": [
      "\u001b[1;31m---------------------------------------------------------------------------\u001b[0m",
      "\u001b[1;31mNameError\u001b[0m                                 Traceback (most recent call last)",
      "\u001b[1;32m<ipython-input-6-1c2838cf1bc6>\u001b[0m in \u001b[0;36m<module>\u001b[1;34m\u001b[0m\n\u001b[1;32m----> 1\u001b[1;33m \u001b[0mprint\u001b[0m\u001b[1;33m(\u001b[0m\u001b[0mtype\u001b[0m\u001b[1;33m(\u001b[0m\u001b[0mtrue\u001b[0m\u001b[1;33m)\u001b[0m\u001b[1;33m)\u001b[0m\u001b[1;33m\u001b[0m\u001b[1;33m\u001b[0m\u001b[0m\n\u001b[0m",
      "\u001b[1;31mNameError\u001b[0m: name 'true' is not defined"
     ]
    }
   ],
   "source": [
    "print(type(true))"
   ]
  },
  {
   "cell_type": "markdown",
   "metadata": {},
   "source": [
    "Boolean ifadeler, sonucu boolean değer olan ve boolean değer olarak değerlendirilen deyimlerdir. \n",
    "\n",
    "\"==\" gibi koşullu durumlar, girdiğimiz bilgilerin doğruluğunu kontrol edip sonuçlar verirler. Verdikleri sonuçlar ise bool tipindedir."
   ]
  },
  {
   "cell_type": "code",
   "execution_count": 17,
   "metadata": {},
   "outputs": [
    {
     "name": "stdout",
     "output_type": "stream",
     "text": [
      "<class 'bool'>\n"
     ]
    }
   ],
   "source": [
    "print(type(1 == 2))"
   ]
  },
  {
   "cell_type": "code",
   "execution_count": 14,
   "metadata": {},
   "outputs": [
    {
     "name": "stdout",
     "output_type": "stream",
     "text": [
      "True\n"
     ]
    }
   ],
   "source": [
    "print(5 == 5)"
   ]
  },
  {
   "cell_type": "code",
   "execution_count": 15,
   "metadata": {},
   "outputs": [
    {
     "name": "stdout",
     "output_type": "stream",
     "text": [
      "False\n"
     ]
    }
   ],
   "source": [
    "print(5 == 6)"
   ]
  },
  {
   "cell_type": "markdown",
   "metadata": {},
   "source": [
    "İlk cümlede, karşılaştırılan iki sayı birbirine eşittir, bu yüzden ifade True sonucunu üretir; ikinci cümlede ise 5, 6'ya eşit değildir, bu sebeple False sonucu elde edilir."
   ]
  },
  {
   "cell_type": "markdown",
   "metadata": {},
   "source": [
    "Python'da 1 rakamı boolean olarak True değeriyle eşdeğerdir. Aynı şekilde de 0 rakamı False boolean değeriyle eşdeğer kabul edilir."
   ]
  },
  {
   "cell_type": "code",
   "execution_count": 9,
   "metadata": {},
   "outputs": [
    {
     "name": "stdout",
     "output_type": "stream",
     "text": [
      "True\n"
     ]
    }
   ],
   "source": [
    "print(1 == True)"
   ]
  },
  {
   "cell_type": "code",
   "execution_count": 10,
   "metadata": {},
   "outputs": [
    {
     "name": "stdout",
     "output_type": "stream",
     "text": [
      "False\n"
     ]
    }
   ],
   "source": [
    "print(0 == True)"
   ]
  },
  {
   "cell_type": "code",
   "execution_count": 41,
   "metadata": {
    "scrolled": true
   },
   "outputs": [
    {
     "data": {
      "text/plain": [
       "False"
      ]
     },
     "execution_count": 41,
     "metadata": {},
     "output_type": "execute_result"
    }
   ],
   "source": [
    "x, y = 3, 2\n",
    "\n",
    "x == y               # Eğer x, y'ye eşit ise True değeri üretir."
   ]
  },
  {
   "cell_type": "code",
   "execution_count": 42,
   "metadata": {
    "scrolled": true
   },
   "outputs": [
    {
     "data": {
      "text/plain": [
       "True"
      ]
     },
     "execution_count": 42,
     "metadata": {},
     "output_type": "execute_result"
    }
   ],
   "source": [
    "x != y               # x, y'ye eşit değil ise True değeri üretir."
   ]
  },
  {
   "cell_type": "code",
   "execution_count": 43,
   "metadata": {},
   "outputs": [
    {
     "data": {
      "text/plain": [
       "True"
      ]
     },
     "execution_count": 43,
     "metadata": {},
     "output_type": "execute_result"
    }
   ],
   "source": [
    "x > y                # x, y'den büyük ise True değeri üretir."
   ]
  },
  {
   "cell_type": "code",
   "execution_count": 44,
   "metadata": {},
   "outputs": [
    {
     "data": {
      "text/plain": [
       "False"
      ]
     },
     "execution_count": 44,
     "metadata": {},
     "output_type": "execute_result"
    }
   ],
   "source": [
    "x < y                # x, y'den küçük iseTrue değeri üretir."
   ]
  },
  {
   "cell_type": "code",
   "execution_count": 45,
   "metadata": {},
   "outputs": [
    {
     "data": {
      "text/plain": [
       "True"
      ]
     },
     "execution_count": 45,
     "metadata": {},
     "output_type": "execute_result"
    }
   ],
   "source": [
    "x >= y               # x, y'den büyük veya eşit ise True değeri üretir."
   ]
  },
  {
   "cell_type": "code",
   "execution_count": 46,
   "metadata": {},
   "outputs": [
    {
     "data": {
      "text/plain": [
       "False"
      ]
     },
     "execution_count": 46,
     "metadata": {},
     "output_type": "execute_result"
    }
   ],
   "source": [
    "x <= y               # x, y'den küçük veya eşit ise True değeri üretir."
   ]
  },
  {
   "cell_type": "markdown",
   "metadata": {},
   "source": [
    "Dolayısıyla aslında if-elif-else koşullu ifadelerinin algoritmalarında yapı şu şekildedir:\n",
    "\n",
    "if \"koşullu bir ifade\":\n",
    "1. İfadesinde koşula bakılır. \n",
    "2. Koşul doğruysa \"koşullu bir ifade\", True olarak kabul edilir. \n",
    "3. Şartın True boolean değerine geldiğini gören program o şartın sonucunu gerçekleştirmek için o if koşulunun içine girer.\n",
    "4. Koşul yanlışsa \"koşullu bir ifade\", False olarak kabul edilir. \n",
    "5. Şartın False boolean değerine geldiğini gören program o şartın sonucunu gerçekleştirmemek için o if koşulunun içine girmez, devam eder.\n",
    "6. Aşağıdaki muhtemel elif ve else ifadelerinin yanındaki koşullar için birinci aşamadan tekrar kontrol başlar.\n"
   ]
  },
  {
   "cell_type": "code",
   "execution_count": 30,
   "metadata": {},
   "outputs": [
    {
     "name": "stdout",
     "output_type": "stream",
     "text": [
      "1, 1'e eşittir.\n"
     ]
    }
   ],
   "source": [
    "if 1 == 2:                       # 1 == 2 ifadesi kontrol -> yanlış olduğuna karar verildi -> \n",
    "    print(\"1, 2'ye eşittir.\")    # bu şart satırına geçilmeden devam edildi\n",
    "    \n",
    "elif 1 == 1:                    # 1 == 1 ifadesi kontrol -> doğru olduğuna karar verildi -> \n",
    "    print(\"1, 1'e eşittir.\")    # bu şart satırına geçildi ve içinde verilen görev gerçekleştirildi."
   ]
  },
  {
   "cell_type": "markdown",
   "metadata": {},
   "source": [
    "Takip eden girintili cümlelere yani iç içe if, elif veya else kullanımına blok adı verilir. İlk girintisiz koşullu ifade bloğun sonunu belirler."
   ]
  },
  {
   "cell_type": "code",
   "execution_count": 34,
   "metadata": {},
   "outputs": [
    {
     "name": "stdout",
     "output_type": "stream",
     "text": [
      "Lütfen yaşınızı giriniz: 12\n",
      "Lütfen doğum tarihinizi gg.aa şeklinde giriniz: 25.01\n",
      "Maalesef ehliyet alamıyorsunuz!\n",
      "Lütfen bir sonraki sene tekrar deneyiniz!\n"
     ]
    }
   ],
   "source": [
    "yas = int(input(\"Lütfen yaşınızı giriniz: \"))\n",
    "dogum_tarihi = str(input(\"Lütfen doğum tarihinizi gg.aa şeklinde giriniz: \"))\n",
    "\n",
    "bugunun_tarihi = \"21.09\"\n",
    "\n",
    "if yas < 18:               # yas<18 boolean olarak True ya eşit değilse bu kod bloğu yok sayılır, eşitse bu bloğa girilir\n",
    "    print(\"Maalesef ehliyet alamıyorsunuz!\")               # bloğa girilince buradaki işleme başlanır\n",
    "    \n",
    "    if dogum_tarihi == bugunun_tarihi:                     # doğum tarihi kontrol edilir\n",
    "        print(\"Doğum gününüz kutlu olsun!\")                # bugünün tarihine eşitse bloğa girilir\n",
    "        \n",
    "    else:                                                  # eşit değilse else şartı gerçekleştirilip çıkılır\n",
    "        print(\"Lütfen bir sonraki sene tekrar deneyiniz!\")\n",
    "                                                           #buraya ulaşınca ilk bloktan çıkılmış olur\n",
    "            \n",
    "elif yas >= 18:                                            # buraya ulaşınca yas >= 18 ifadesi \n",
    "                                                           # True değerine eşitse bu bloğa girilir.\n",
    "    print(\"Ehliyet alabilirsiniz!\")\n"
   ]
  },
  {
   "cell_type": "markdown",
   "metadata": {},
   "source": [
    "# Pass"
   ]
  },
  {
   "cell_type": "markdown",
   "metadata": {},
   "source": [
    "if bloğunun içinde bulunabilecek koşullu cümle sayısında bir sınır yoktur, ama en azından bir ifadenin olması gerekir. Bazen boş if cümlesi yazmak (mesela daha sonra yazmak üzere alan ayırmak) gerekebilir. Bu durumda pass cümlesi kullanılır.\n",
    "\n",
    "Eğer boş bırakılırsa program hata verir.\n",
    "\n",
    "Program pass satırına ulaşınca hiçbir işlev gerçekleştirmeden o bloktan çıkar."
   ]
  },
  {
   "cell_type": "code",
   "execution_count": 36,
   "metadata": {},
   "outputs": [
    {
     "ename": "SyntaxError",
     "evalue": "unexpected EOF while parsing (<ipython-input-36-a81d02057054>, line 2)",
     "output_type": "error",
     "traceback": [
      "\u001b[1;36m  File \u001b[1;32m\"<ipython-input-36-a81d02057054>\"\u001b[1;36m, line \u001b[1;32m2\u001b[0m\n\u001b[1;33m    \u001b[0m\n\u001b[1;37m    ^\u001b[0m\n\u001b[1;31mSyntaxError\u001b[0m\u001b[1;31m:\u001b[0m unexpected EOF while parsing\n"
     ]
    }
   ],
   "source": [
    "if 1 == True:       # bu her zaman doğrudur\n",
    "    "
   ]
  },
  {
   "cell_type": "code",
   "execution_count": 33,
   "metadata": {},
   "outputs": [],
   "source": [
    "if True:            # burada koşullu ifade yazmak yerine direkt boolean değer yazılmıştır. \n",
    "                    # bu kullanım da doğrudur\n",
    "    pass            # henüz ne yazacağımıza karar vermediğimiz kısmı pass ile hata almaktan kurtardık"
   ]
  },
  {
   "cell_type": "markdown",
   "metadata": {},
   "source": [
    "# İç İçe Koşullu İfadeler ve Mantık Operatörleri\n"
   ]
  },
  {
   "cell_type": "markdown",
   "metadata": {},
   "source": [
    "Python'da tek if satırında birdan fazla koşulu kontrol etmek için mantık operatörleri kullanılır. Üç adet mantıksal operatör vardır: and (ve), or (veya) ve not (değil). Bu basit Boolean deyimlerini kullanarak, daha karmaşık Boolean ifadeleri üretebiliriz. Bu operatörlerin anlamları, parantez içinde yazılmış olan Türkçe anlamlarıyla benzerdir. Örneğin, x > 0 ve x < 10 ifadesi, \"x ifadesi 0’dan büyük ve aynı zamanda x 10’dan küçük olduğunda\" doğrudur."
   ]
  },
  {
   "cell_type": "code",
   "execution_count": 31,
   "metadata": {},
   "outputs": [
    {
     "name": "stdout",
     "output_type": "stream",
     "text": [
      "Lütfen bir sayı giriniz: 0\n"
     ]
    }
   ],
   "source": [
    "x = int(input(\"Lütfen bir sayı giriniz: \"))\n",
    "\n",
    "if x > 0 and x < 10:\n",
    "    print(\"x sayısı 0 ile 10 arasındadır.\")\n",
    "elif x < 0 or x > 10:\n",
    "    print(\"x sayısı 10 dan büyük VEYA 0 dan küçüktür.\")"
   ]
  },
  {
   "cell_type": "code",
   "execution_count": 32,
   "metadata": {},
   "outputs": [
    {
     "name": "stdout",
     "output_type": "stream",
     "text": [
      "Lütfen bir sayı giriniz: 98\n",
      "Ehliyet alabilirsiniz!\n"
     ]
    }
   ],
   "source": [
    "yas = int(input(\"Lütfen bir sayı giriniz: \"))\n",
    "\n",
    "if yas < 0:\n",
    "    print(\"Henüz doğmadınız\")\n",
    "elif yas > 0 and yas < 18:\n",
    "    print(\"Üzgünüm, henüz ehliyet alamazsınız\")\n",
    "else:\n",
    "    print(\"Ehliyet alabilirsiniz!\")"
   ]
  },
  {
   "cell_type": "markdown",
   "metadata": {},
   "source": [
    "Daha karmaşık ifadeler de yazabilir ve önceliklerinize göre parantezlere alabilirsiniz."
   ]
  },
  {
   "cell_type": "code",
   "execution_count": 52,
   "metadata": {},
   "outputs": [
    {
     "name": "stdout",
     "output_type": "stream",
     "text": [
      "Lütfen bir sayı giriniz: 5\n",
      "Lütfen istenmeyen bir sayı giriniz: 6\n",
      "x, 0 ile 10 arasındadır ve 6 ile x eşit değildir.\n"
     ]
    }
   ],
   "source": [
    "sayi = int(input(\"Lütfen bir sayı giriniz: \"))\n",
    "istenmeyen_sayi = int(input(\"Lütfen istenmeyen bir sayı giriniz: \"))\n",
    "    \n",
    "if (x > 0 and x < 10) and not x == istenmeyen_sayi:\n",
    "    print(\"x, 0 ile 10 arasındadır ve\", istenmeyen_sayi, \"ile x eşit değildir.\")\n",
    "    "
   ]
  },
  {
   "cell_type": "markdown",
   "metadata": {},
   "source": [
    "Aşağıda mantıksal operatörlerin doğruluk tabloları verilmiştir."
   ]
  },
  {
   "cell_type": "markdown",
   "metadata": {},
   "source": [
    "### or Operatörü"
   ]
  },
  {
   "cell_type": "markdown",
   "metadata": {},
   "source": [
    "![title](https://raw.githubusercontent.com/ituitis-averbek18/images/master/week2_table3.png)"
   ]
  },
  {
   "cell_type": "markdown",
   "metadata": {},
   "source": [
    "### and Operatörü"
   ]
  },
  {
   "cell_type": "markdown",
   "metadata": {},
   "source": [
    "![title](https://raw.githubusercontent.com/ituitis-averbek18/images/master/week2_table4.png)"
   ]
  },
  {
   "cell_type": "markdown",
   "metadata": {},
   "source": [
    "#### UYARI: not operatörü önüne geldiği her şeyin doğruluk değerini tersine çevirmekle görevlidir."
   ]
  },
  {
   "cell_type": "code",
   "execution_count": 56,
   "metadata": {},
   "outputs": [
    {
     "data": {
      "text/plain": [
       "False"
      ]
     },
     "execution_count": 56,
     "metadata": {},
     "output_type": "execute_result"
    }
   ],
   "source": [
    "not True"
   ]
  },
  {
   "cell_type": "code",
   "execution_count": 57,
   "metadata": {},
   "outputs": [
    {
     "data": {
      "text/plain": [
       "True"
      ]
     },
     "execution_count": 57,
     "metadata": {},
     "output_type": "execute_result"
    }
   ],
   "source": [
    "not 0"
   ]
  },
  {
   "cell_type": "markdown",
   "metadata": {},
   "source": [
    "# Matematiksel Operatörler"
   ]
  },
  {
   "cell_type": "markdown",
   "metadata": {},
   "source": [
    "Python'da kullanılabilen matematiksel operatörler ve karşılıkları aşağıdaki tabloda verilmiştir.\n"
   ]
  },
  {
   "cell_type": "markdown",
   "metadata": {},
   "source": [
    "![title](https://raw.githubusercontent.com/ituitis-averbek18/images/master/week2_table2.png)"
   ]
  },
  {
   "cell_type": "code",
   "execution_count": 59,
   "metadata": {},
   "outputs": [
    {
     "name": "stdout",
     "output_type": "stream",
     "text": [
      "13\n",
      "5\n",
      "36\n",
      "2.25\n",
      "2\n",
      "1\n",
      "6561\n"
     ]
    }
   ],
   "source": [
    "# Matematiksel Operatör Örnekleri\n",
    "a = 9\n",
    "b = 4\n",
    "\n",
    "ekle = a + b # Toplama işlemi\n",
    "\n",
    "cikar = a - b # Çıkarma işlemi \n",
    "\n",
    "carp = a * b # Çarpma İşlemi\n",
    "\n",
    "bol1 = a / b # Bölme işlemi\n",
    "\n",
    "bol2 = a // b # İnteger bölmesi işlemi \n",
    "\n",
    "mod = a % b # mod alma işlemi\n",
    "\n",
    "ussu = a ** b \n",
    "\n",
    "print(ekle) \n",
    "print(cikar) \n",
    "print(carp) \n",
    "print(bol1) \n",
    "print(bol2) \n",
    "print(mod)\n",
    "print(ussu) \n"
   ]
  },
  {
   "cell_type": "code",
   "execution_count": null,
   "metadata": {},
   "outputs": [],
   "source": []
  }
 ],
 "metadata": {
  "kernelspec": {
   "display_name": "Python 3",
   "language": "python",
   "name": "python3"
  },
  "language_info": {
   "codemirror_mode": {
    "name": "ipython",
    "version": 3
   },
   "file_extension": ".py",
   "mimetype": "text/x-python",
   "name": "python",
   "nbconvert_exporter": "python",
   "pygments_lexer": "ipython3",
   "version": "3.8.5"
  }
 },
 "nbformat": 4,
 "nbformat_minor": 4
}
